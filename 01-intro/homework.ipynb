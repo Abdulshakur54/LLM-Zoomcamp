{
 "cells": [
  {
   "cell_type": "code",
   "execution_count": 4,
   "id": "4f4a0685-f42f-4ada-a9d4-efe0d35d781b",
   "metadata": {},
   "outputs": [
    {
     "data": {
      "text/plain": [
       "[Choice(finish_reason='stop', index=0, logprobs=None, message=ChatCompletionMessage(content='Making a salad is easy and you can customize it however you like! Here’s a simple way to make a basic green salad, plus ideas for variations:\\n\\n### Basic Green Salad Recipe\\n\\n#### **Ingredients:**\\n- Fresh greens (lettuce, spinach, arugula, or mixed salad greens)\\n- Vegetables (tomato, cucumber, bell pepper, carrot, etc.)\\n- Optional toppings: cheese, nuts, seeds, olives, croutons\\n- Dressing (olive oil & vinegar, store-bought, or homemade)\\n\\n#### **Instructions:**\\n1. **Wash and dry the greens** – Use a salad spinner or pat dry with a towel.\\n2. **Chop vegetables** – Cut into bite-size pieces.\\n3. **Combine in a large bowl** – Mix greens and chopped veggies.\\n4. **Add toppings** – Sprinkle over cheese, nuts, or anything you like.\\n5. **Dress the salad** – Drizzle with dressing just before serving and toss gently.\\n\\n---\\n\\n### **Simple Salad Dressing**\\n- 2 tablespoons olive oil\\n- 1 tablespoon vinegar or lemon juice\\n- Salt & pepper to taste\\n\\nMix well and pour over your salad.\\n\\n---\\n\\n### **Salad Variations:**\\n- **Protein:** Add grilled chicken, tuna, chickpeas, boiled eggs, or tofu.\\n- **Fruits:** Try apple, orange segments, strawberries, or avocado.\\n- **Extras:** Add beans, quinoa, roasted veggies, or fresh herbs.\\n\\n**Enjoy your salad!** Let me know if you want a specific type of salad recipe (Greek, Caesar, pasta salad, etc.).', refusal=None, role='assistant', annotations=[], audio=None, function_call=None, tool_calls=None))]"
      ]
     },
     "execution_count": 4,
     "metadata": {},
     "output_type": "execute_result"
    }
   ],
   "source": [
    "from openai import OpenAI\n",
    "client = OpenAI()\n",
    "responses = client.chat.completions.create(model=\"gpt-4.1\", messages=[{\"role\": \"user\", \"content\": \"How to make salad?\"}])\n",
    "responses.choices"
   ]
  },
  {
   "cell_type": "code",
   "execution_count": null,
   "id": "88e9e06c-8999-4b96-9fa9-a90c9ee26688",
   "metadata": {},
   "outputs": [],
   "source": []
  }
 ],
 "metadata": {
  "kernelspec": {
   "display_name": "Python 3 (ipykernel)",
   "language": "python",
   "name": "python3"
  },
  "language_info": {
   "codemirror_mode": {
    "name": "ipython",
    "version": 3
   },
   "file_extension": ".py",
   "mimetype": "text/x-python",
   "name": "python",
   "nbconvert_exporter": "python",
   "pygments_lexer": "ipython3",
   "version": "3.12.3"
  }
 },
 "nbformat": 4,
 "nbformat_minor": 5
}
